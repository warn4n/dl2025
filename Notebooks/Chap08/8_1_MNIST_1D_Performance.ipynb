{
  "cells": [
    {
      "cell_type": "markdown",
      "metadata": {
        "id": "view-in-github",
        "colab_type": "text"
      },
      "source": [
        "<a href=\"https://colab.research.google.com/github/warn4n/dl2025/blob/main/Notebooks/Chap08/8_1_MNIST_1D_Performance.ipynb\" target=\"_parent\"><img src=\"https://colab.research.google.com/assets/colab-badge.svg\" alt=\"Open In Colab\"/></a>"
      ]
    },
    {
      "cell_type": "markdown",
      "metadata": {
        "id": "L6chybAVFJW2"
      },
      "source": [
        "# **Notebook 8.1: MNIST_1D_Performance**\n",
        "\n",
        "This notebook runs a simple neural network on the MNIST1D dataset as in figure 8.2a. It uses code from https://github.com/greydanus/mnist1d to generate the data.\n",
        "\n",
        "Work through the cells below, running each cell in turn. In various places you will see the words \"TODO\". Follow the instructions at these places and make predictions about what is going to happen or write code to complete the functions.\n",
        "\n",
        "Contact me at udlbookmail@gmail.com if you find any mistakes or have any suggestions."
      ]
    },
    {
      "cell_type": "code",
      "execution_count": 1,
      "metadata": {
        "id": "ifVjS4cTOqKz",
        "outputId": "594ab3ec-1506-49d8-d365-3a3d7312fdb8",
        "colab": {
          "base_uri": "https://localhost:8080/"
        }
      },
      "outputs": [
        {
          "output_type": "stream",
          "name": "stdout",
          "text": [
            "Collecting git+https://github.com/greydanus/mnist1d\n",
            "  Cloning https://github.com/greydanus/mnist1d to /tmp/pip-req-build-the01_y9\n",
            "  Running command git clone --filter=blob:none --quiet https://github.com/greydanus/mnist1d /tmp/pip-req-build-the01_y9\n",
            "  Resolved https://github.com/greydanus/mnist1d to commit 7878d96082abd200c546a07a4101fa90b30fdf7e\n",
            "  Installing build dependencies ... \u001b[?25l\u001b[?25hdone\n",
            "  Getting requirements to build wheel ... \u001b[?25l\u001b[?25hdone\n",
            "  Preparing metadata (pyproject.toml) ... \u001b[?25l\u001b[?25hdone\n",
            "Requirement already satisfied: requests in /usr/local/lib/python3.11/dist-packages (from mnist1d==0.0.2.post16) (2.32.3)\n",
            "Requirement already satisfied: numpy in /usr/local/lib/python3.11/dist-packages (from mnist1d==0.0.2.post16) (2.0.2)\n",
            "Requirement already satisfied: matplotlib in /usr/local/lib/python3.11/dist-packages (from mnist1d==0.0.2.post16) (3.10.0)\n",
            "Requirement already satisfied: scipy in /usr/local/lib/python3.11/dist-packages (from mnist1d==0.0.2.post16) (1.15.2)\n",
            "Requirement already satisfied: contourpy>=1.0.1 in /usr/local/lib/python3.11/dist-packages (from matplotlib->mnist1d==0.0.2.post16) (1.3.2)\n",
            "Requirement already satisfied: cycler>=0.10 in /usr/local/lib/python3.11/dist-packages (from matplotlib->mnist1d==0.0.2.post16) (0.12.1)\n",
            "Requirement already satisfied: fonttools>=4.22.0 in /usr/local/lib/python3.11/dist-packages (from matplotlib->mnist1d==0.0.2.post16) (4.57.0)\n",
            "Requirement already satisfied: kiwisolver>=1.3.1 in /usr/local/lib/python3.11/dist-packages (from matplotlib->mnist1d==0.0.2.post16) (1.4.8)\n",
            "Requirement already satisfied: packaging>=20.0 in /usr/local/lib/python3.11/dist-packages (from matplotlib->mnist1d==0.0.2.post16) (24.2)\n",
            "Requirement already satisfied: pillow>=8 in /usr/local/lib/python3.11/dist-packages (from matplotlib->mnist1d==0.0.2.post16) (11.2.1)\n",
            "Requirement already satisfied: pyparsing>=2.3.1 in /usr/local/lib/python3.11/dist-packages (from matplotlib->mnist1d==0.0.2.post16) (3.2.3)\n",
            "Requirement already satisfied: python-dateutil>=2.7 in /usr/local/lib/python3.11/dist-packages (from matplotlib->mnist1d==0.0.2.post16) (2.9.0.post0)\n",
            "Requirement already satisfied: charset-normalizer<4,>=2 in /usr/local/lib/python3.11/dist-packages (from requests->mnist1d==0.0.2.post16) (3.4.1)\n",
            "Requirement already satisfied: idna<4,>=2.5 in /usr/local/lib/python3.11/dist-packages (from requests->mnist1d==0.0.2.post16) (3.10)\n",
            "Requirement already satisfied: urllib3<3,>=1.21.1 in /usr/local/lib/python3.11/dist-packages (from requests->mnist1d==0.0.2.post16) (2.4.0)\n",
            "Requirement already satisfied: certifi>=2017.4.17 in /usr/local/lib/python3.11/dist-packages (from requests->mnist1d==0.0.2.post16) (2025.4.26)\n",
            "Requirement already satisfied: six>=1.5 in /usr/local/lib/python3.11/dist-packages (from python-dateutil>=2.7->matplotlib->mnist1d==0.0.2.post16) (1.17.0)\n",
            "Building wheels for collected packages: mnist1d\n",
            "  Building wheel for mnist1d (pyproject.toml) ... \u001b[?25l\u001b[?25hdone\n",
            "  Created wheel for mnist1d: filename=mnist1d-0.0.2.post16-py3-none-any.whl size=14664 sha256=d2d8853b7c50ed2d506c84edc0dc03a569f8e239dd792f8de40b82bb44f28aa8\n",
            "  Stored in directory: /tmp/pip-ephem-wheel-cache-lsrzmuty/wheels/d6/38/42/3d2112bc7d915f6195254ac85eb761d922d1b18f52817aa8e2\n",
            "Successfully built mnist1d\n",
            "Installing collected packages: mnist1d\n",
            "Successfully installed mnist1d-0.0.2.post16\n"
          ]
        }
      ],
      "source": [
        "# Run this if you're in a Colab to install MNIST 1D repository\n",
        "%pip install git+https://github.com/greydanus/mnist1d"
      ]
    },
    {
      "cell_type": "code",
      "execution_count": 2,
      "metadata": {
        "id": "qyE7G1StPIqO"
      },
      "outputs": [],
      "source": [
        "import torch, torch.nn as nn\n",
        "from torch.utils.data import TensorDataset, DataLoader\n",
        "from torch.optim.lr_scheduler import StepLR\n",
        "import numpy as np\n",
        "import matplotlib.pyplot as plt\n",
        "import mnist1d"
      ]
    },
    {
      "cell_type": "markdown",
      "metadata": {
        "id": "F7LNq72SP6jO"
      },
      "source": [
        "Let's generate a training and test dataset using the MNIST1D code.  The dataset gets saved as a .pkl file so it doesn't have to be regenerated each time."
      ]
    },
    {
      "cell_type": "code",
      "execution_count": 31,
      "metadata": {
        "id": "YLxf7dJfPaqw",
        "outputId": "c6d886f7-45ac-4757-8bbf-e9661fb06ef3",
        "colab": {
          "base_uri": "https://localhost:8080/"
        }
      },
      "outputs": [
        {
          "output_type": "stream",
          "name": "stdout",
          "text": [
            "Successfully loaded data from ./mnist1d_data.pkl\n",
            "Examples in training set: 4000\n",
            "Examples in test set: 1000\n",
            "Length of each example: 40\n"
          ]
        }
      ],
      "source": [
        "args = mnist1d.data.get_dataset_args()\n",
        "data = mnist1d.data.get_dataset(args, path='./mnist1d_data.pkl', download=False, regenerate=False)\n",
        "\n",
        "# The training and test input and outputs are in\n",
        "# data['x'], data['y'], data['x_test'], and data['y_test']\n",
        "print(\"Examples in training set: {}\".format(len(data['y'])))\n",
        "print(\"Examples in test set: {}\".format(len(data['y_test'])))\n",
        "print(\"Length of each example: {}\".format(data['x'].shape[-1]))"
      ]
    },
    {
      "cell_type": "code",
      "execution_count": 35,
      "metadata": {
        "id": "FxaB5vc0uevl",
        "outputId": "4c233046-fbba-483d-b1ed-8f5c40e08ae9",
        "colab": {
          "base_uri": "https://localhost:8080/"
        }
      },
      "outputs": [
        {
          "output_type": "stream",
          "name": "stdout",
          "text": [
            "Initializing layer\n",
            "Initializing layer\n",
            "Initializing layer\n",
            "Initializing layer\n",
            "Initializing layer\n",
            "Initializing layer\n",
            "Initializing layer\n",
            "Initializing layer\n",
            "Initializing layer\n",
            "Initializing layer\n",
            "Initializing layer\n",
            "Initializing layer\n",
            "Initializing layer\n",
            "Initializing layer\n",
            "Initializing layer\n",
            "Initializing layer\n"
          ]
        },
        {
          "output_type": "execute_result",
          "data": {
            "text/plain": [
              "Sequential(\n",
              "  (0): Linear(in_features=40, out_features=40, bias=True)\n",
              "  (1): ReLU()\n",
              "  (2): Linear(in_features=40, out_features=40, bias=True)\n",
              "  (3): ReLU()\n",
              "  (4): Dropout(p=0.5, inplace=False)\n",
              "  (5): Linear(in_features=40, out_features=40, bias=True)\n",
              "  (6): ReLU()\n",
              "  (7): Linear(in_features=40, out_features=40, bias=True)\n",
              "  (8): ReLU()\n",
              "  (9): Dropout(p=0.5, inplace=False)\n",
              "  (10): Linear(in_features=40, out_features=40, bias=True)\n",
              "  (11): ReLU()\n",
              "  (12): Linear(in_features=40, out_features=40, bias=True)\n",
              "  (13): ReLU()\n",
              "  (14): Linear(in_features=40, out_features=10, bias=True)\n",
              ")"
            ]
          },
          "metadata": {},
          "execution_count": 35
        }
      ],
      "source": [
        "D_i = 40    # Input dimensions\n",
        "D_k = 40   # Hidden dimensions\n",
        "D_o = 10    # Output dimensions\n",
        "# TODO:\n",
        "# Define a model with two hidden layers of size 100\n",
        "# And ReLU activations between them\n",
        "# Replace this line (see Figure 7.8 of book for help):\n",
        "model = nn.Sequential(\n",
        "    nn.Linear(D_i, D_k),\n",
        "    nn.ReLU(),\n",
        "    nn.Linear(D_k, D_k),\n",
        "    nn.ReLU(),\n",
        "    nn.Dropout(0.5),\n",
        "    nn.Linear(D_k, D_k),\n",
        "    nn.ReLU(),\n",
        "    nn.Linear(D_k, D_k),\n",
        "    nn.ReLU(),\n",
        "    nn.Dropout(0.5),\n",
        "    nn.Linear(D_k, D_k),\n",
        "    nn.ReLU(),\n",
        "    nn.Linear(D_k, D_k),\n",
        "    nn.ReLU(),\n",
        "    nn.Linear(D_k, D_o)\n",
        ");\n",
        "\n",
        "\n",
        "def weights_init(layer_in):\n",
        "  # TODO:\n",
        "  # Initialize the parameters with He initialization\n",
        "  # Replace this line (see figure 7.8 of book for help)\n",
        "  print(\"Initializing layer\")\n",
        "  if isinstance(layer_in, nn.Linear):\n",
        "    nn.init.kaiming_normal_(layer_in.weight, mode='fan_in', nonlinearity='relu')\n",
        "    nn.init.zeros_(layer_in.bias)      # or: layer_in.bias.data.zero_()\n",
        "\n",
        "\n",
        "# Call the function you just defined\n",
        "model.apply(weights_init)\n"
      ]
    },
    {
      "cell_type": "code",
      "source": [
        "for name, p in model.named_parameters():\n",
        "    if \"weight\" in name:\n",
        "        print(name, p.mean().item(), p.std().item())\n"
      ],
      "metadata": {
        "id": "ei5yhPP-jylN",
        "outputId": "6e3838fa-3c55-4a13-f2d7-1d1888d03420",
        "colab": {
          "base_uri": "https://localhost:8080/"
        }
      },
      "execution_count": 36,
      "outputs": [
        {
          "output_type": "stream",
          "name": "stdout",
          "text": [
            "0.weight 0.001137119485065341 0.21929563581943512\n",
            "2.weight -0.007678832858800888 0.22277764976024628\n",
            "5.weight -0.006769707426428795 0.22382505238056183\n",
            "7.weight 0.010146031156182289 0.2214532196521759\n",
            "10.weight -0.005927960854023695 0.23130185902118683\n",
            "12.weight -0.0029992901254445314 0.21680307388305664\n",
            "14.weight -0.009211745113134384 0.22932374477386475\n"
          ]
        }
      ]
    },
    {
      "cell_type": "code",
      "execution_count": 37,
      "metadata": {
        "id": "_rX6N3VyyQTY",
        "outputId": "e5c51c4e-a3a7-49b0-80ad-afab3d2cf212",
        "colab": {
          "base_uri": "https://localhost:8080/"
        }
      },
      "outputs": [
        {
          "output_type": "stream",
          "name": "stdout",
          "text": [
            "Initializing layer\n",
            "Initializing layer\n",
            "Initializing layer\n",
            "Initializing layer\n",
            "Initializing layer\n",
            "Initializing layer\n",
            "Initializing layer\n",
            "Initializing layer\n",
            "Initializing layer\n",
            "Initializing layer\n",
            "Initializing layer\n",
            "Initializing layer\n",
            "Initializing layer\n",
            "Initializing layer\n",
            "Initializing layer\n",
            "Initializing layer\n",
            "Epoch     0, train loss 1.986697, train error 77.10,  test loss 1.962885, test error 77.80\n",
            "Epoch     1, train loss 1.809679, train error 72.62,  test loss 1.812451, test error 73.40\n",
            "Epoch     2, train loss 1.799897, train error 72.68,  test loss 1.824173, test error 73.60\n",
            "Epoch     3, train loss 1.802581, train error 74.10,  test loss 1.806358, test error 73.90\n",
            "Epoch     4, train loss 1.706178, train error 69.53,  test loss 1.677026, test error 70.00\n",
            "Epoch     5, train loss 1.854456, train error 71.45,  test loss 1.814135, test error 70.70\n",
            "Epoch     6, train loss 1.720398, train error 69.57,  test loss 1.727249, test error 71.70\n",
            "Epoch     7, train loss 1.621283, train error 65.43,  test loss 1.659428, test error 67.30\n",
            "Epoch     8, train loss 1.625038, train error 64.55,  test loss 1.635468, test error 65.70\n",
            "Epoch     9, train loss 1.680557, train error 66.97,  test loss 1.722941, test error 68.40\n",
            "Epoch    10, train loss 1.555432, train error 63.38,  test loss 1.585255, test error 64.80\n",
            "Epoch    11, train loss 1.485367, train error 62.00,  test loss 1.538568, test error 62.00\n",
            "Epoch    12, train loss 1.593195, train error 65.97,  test loss 1.626747, test error 67.10\n",
            "Epoch    13, train loss 1.541166, train error 64.20,  test loss 1.644988, test error 66.90\n",
            "Epoch    14, train loss 1.488167, train error 60.80,  test loss 1.540962, test error 64.00\n",
            "Epoch    15, train loss 1.449303, train error 59.03,  test loss 1.538049, test error 62.20\n",
            "Epoch    16, train loss 1.404048, train error 57.50,  test loss 1.515935, test error 61.40\n",
            "Epoch    17, train loss 1.438556, train error 58.70,  test loss 1.508389, test error 61.30\n",
            "Epoch    18, train loss 1.381197, train error 56.22,  test loss 1.451599, test error 62.30\n",
            "Epoch    19, train loss 1.495819, train error 59.10,  test loss 1.633812, test error 64.30\n",
            "Epoch    20, train loss 1.340343, train error 55.28,  test loss 1.452902, test error 60.80\n",
            "Epoch    21, train loss 1.290370, train error 52.83,  test loss 1.370806, test error 55.50\n",
            "Epoch    22, train loss 1.286378, train error 51.58,  test loss 1.422764, test error 58.90\n",
            "Epoch    23, train loss 1.265963, train error 52.03,  test loss 1.370653, test error 57.30\n",
            "Epoch    24, train loss 1.250175, train error 52.62,  test loss 1.361745, test error 56.80\n",
            "Epoch    25, train loss 1.253634, train error 51.92,  test loss 1.374147, test error 56.80\n",
            "Epoch    26, train loss 1.242800, train error 50.38,  test loss 1.337045, test error 55.60\n",
            "Epoch    27, train loss 1.231410, train error 49.47,  test loss 1.372188, test error 57.20\n",
            "Epoch    28, train loss 1.211216, train error 49.53,  test loss 1.378572, test error 54.90\n",
            "Epoch    29, train loss 1.221124, train error 49.92,  test loss 1.330611, test error 53.30\n",
            "Epoch    30, train loss 1.181478, train error 47.95,  test loss 1.324560, test error 54.50\n",
            "Epoch    31, train loss 1.153795, train error 46.85,  test loss 1.305027, test error 54.70\n",
            "Epoch    32, train loss 1.179932, train error 49.25,  test loss 1.354901, test error 55.60\n",
            "Epoch    33, train loss 1.157264, train error 47.25,  test loss 1.323754, test error 55.10\n",
            "Epoch    34, train loss 1.157939, train error 47.38,  test loss 1.344398, test error 55.50\n",
            "Epoch    35, train loss 1.156969, train error 46.80,  test loss 1.328850, test error 53.20\n",
            "Epoch    36, train loss 1.127828, train error 45.90,  test loss 1.346892, test error 54.40\n",
            "Epoch    37, train loss 1.140048, train error 46.85,  test loss 1.313978, test error 52.10\n",
            "Epoch    38, train loss 1.131674, train error 46.97,  test loss 1.309643, test error 54.10\n",
            "Epoch    39, train loss 1.113626, train error 45.67,  test loss 1.312276, test error 54.40\n",
            "Epoch    40, train loss 1.099114, train error 44.28,  test loss 1.300367, test error 53.70\n",
            "Epoch    41, train loss 1.102176, train error 44.45,  test loss 1.330299, test error 55.70\n",
            "Epoch    42, train loss 1.093385, train error 44.25,  test loss 1.330405, test error 55.00\n",
            "Epoch    43, train loss 1.081708, train error 44.05,  test loss 1.323756, test error 54.10\n",
            "Epoch    44, train loss 1.132209, train error 45.45,  test loss 1.350629, test error 55.40\n",
            "Epoch    45, train loss 1.090112, train error 43.30,  test loss 1.305918, test error 54.30\n",
            "Epoch    46, train loss 1.067267, train error 43.67,  test loss 1.320643, test error 52.80\n",
            "Epoch    47, train loss 1.068435, train error 43.15,  test loss 1.324774, test error 53.30\n",
            "Epoch    48, train loss 1.065671, train error 42.88,  test loss 1.295782, test error 53.50\n",
            "Epoch    49, train loss 1.091242, train error 44.65,  test loss 1.332123, test error 51.70\n",
            "Epoch    50, train loss 1.059387, train error 43.47,  test loss 1.317934, test error 54.20\n",
            "Epoch    51, train loss 1.051997, train error 42.72,  test loss 1.314972, test error 54.40\n",
            "Epoch    52, train loss 1.045027, train error 42.92,  test loss 1.294934, test error 53.50\n",
            "Epoch    53, train loss 1.031862, train error 42.35,  test loss 1.323249, test error 53.00\n",
            "Epoch    54, train loss 1.032507, train error 42.15,  test loss 1.312080, test error 55.20\n",
            "Epoch    55, train loss 1.054041, train error 43.60,  test loss 1.313384, test error 53.60\n",
            "Epoch    56, train loss 1.035897, train error 42.22,  test loss 1.325668, test error 53.20\n",
            "Epoch    57, train loss 1.033556, train error 41.95,  test loss 1.294342, test error 51.80\n",
            "Epoch    58, train loss 1.012961, train error 41.08,  test loss 1.285654, test error 54.70\n",
            "Epoch    59, train loss 1.021481, train error 41.70,  test loss 1.293922, test error 54.20\n",
            "Epoch    60, train loss 1.025922, train error 41.30,  test loss 1.333871, test error 53.80\n",
            "Epoch    61, train loss 1.036409, train error 41.62,  test loss 1.315590, test error 54.30\n",
            "Epoch    62, train loss 1.002409, train error 40.85,  test loss 1.293802, test error 52.90\n",
            "Epoch    63, train loss 1.017833, train error 41.08,  test loss 1.300082, test error 53.30\n",
            "Epoch    64, train loss 1.013257, train error 40.67,  test loss 1.316230, test error 53.40\n",
            "Epoch    65, train loss 1.008343, train error 41.28,  test loss 1.317757, test error 54.40\n",
            "Epoch    66, train loss 1.013362, train error 41.20,  test loss 1.293831, test error 52.70\n",
            "Epoch    67, train loss 1.006444, train error 40.95,  test loss 1.291751, test error 52.80\n",
            "Epoch    68, train loss 1.011448, train error 40.20,  test loss 1.313379, test error 53.40\n",
            "Epoch    69, train loss 1.020073, train error 40.15,  test loss 1.305653, test error 53.10\n",
            "Epoch    70, train loss 1.010872, train error 40.97,  test loss 1.333191, test error 53.50\n",
            "Epoch    71, train loss 1.014403, train error 41.08,  test loss 1.326431, test error 54.10\n",
            "Epoch    72, train loss 1.004531, train error 41.17,  test loss 1.282612, test error 53.70\n",
            "Epoch    73, train loss 1.000198, train error 40.38,  test loss 1.325025, test error 54.10\n",
            "Epoch    74, train loss 1.006646, train error 40.08,  test loss 1.318194, test error 54.30\n",
            "Epoch    75, train loss 1.006235, train error 40.05,  test loss 1.341674, test error 54.20\n",
            "Epoch    76, train loss 0.995757, train error 40.28,  test loss 1.320970, test error 54.40\n",
            "Epoch    77, train loss 1.001243, train error 40.42,  test loss 1.326787, test error 54.00\n",
            "Epoch    78, train loss 0.992037, train error 40.60,  test loss 1.320390, test error 52.80\n",
            "Epoch    79, train loss 1.000711, train error 40.45,  test loss 1.305053, test error 51.60\n",
            "Epoch    80, train loss 0.992524, train error 39.75,  test loss 1.333746, test error 53.00\n",
            "Epoch    81, train loss 1.000072, train error 40.33,  test loss 1.304316, test error 53.00\n",
            "Epoch    82, train loss 1.003943, train error 40.53,  test loss 1.331013, test error 53.90\n",
            "Epoch    83, train loss 1.005028, train error 40.22,  test loss 1.326510, test error 52.50\n",
            "Epoch    84, train loss 0.996010, train error 39.75,  test loss 1.312522, test error 53.40\n",
            "Epoch    85, train loss 1.000242, train error 39.90,  test loss 1.335847, test error 53.80\n",
            "Epoch    86, train loss 0.992810, train error 39.88,  test loss 1.344207, test error 54.00\n",
            "Epoch    87, train loss 0.995831, train error 40.08,  test loss 1.318885, test error 54.30\n",
            "Epoch    88, train loss 1.002896, train error 40.20,  test loss 1.278046, test error 51.30\n",
            "Epoch    89, train loss 0.997445, train error 40.15,  test loss 1.329023, test error 53.70\n",
            "Epoch    90, train loss 0.998644, train error 40.90,  test loss 1.360250, test error 54.60\n",
            "Epoch    91, train loss 0.990857, train error 40.05,  test loss 1.296100, test error 54.40\n",
            "Epoch    92, train loss 1.000184, train error 40.40,  test loss 1.323996, test error 52.40\n",
            "Epoch    93, train loss 1.002769, train error 40.55,  test loss 1.310637, test error 54.70\n",
            "Epoch    94, train loss 0.987387, train error 40.50,  test loss 1.318205, test error 53.30\n",
            "Epoch    95, train loss 0.993041, train error 39.58,  test loss 1.354202, test error 54.20\n",
            "Epoch    96, train loss 1.001457, train error 40.45,  test loss 1.328393, test error 53.80\n",
            "Epoch    97, train loss 1.013632, train error 40.78,  test loss 1.309276, test error 54.10\n",
            "Epoch    98, train loss 0.991564, train error 39.83,  test loss 1.294337, test error 50.90\n",
            "Epoch    99, train loss 1.003603, train error 40.12,  test loss 1.291096, test error 52.00\n",
            "Epoch   100, train loss 0.996648, train error 40.38,  test loss 1.305022, test error 53.60\n",
            "Epoch   101, train loss 0.993581, train error 40.08,  test loss 1.332174, test error 53.70\n",
            "Epoch   102, train loss 1.000230, train error 40.55,  test loss 1.322612, test error 52.50\n",
            "Epoch   103, train loss 1.000621, train error 40.10,  test loss 1.325353, test error 53.80\n",
            "Epoch   104, train loss 0.993595, train error 40.00,  test loss 1.314949, test error 53.50\n",
            "Epoch   105, train loss 0.986766, train error 39.78,  test loss 1.301389, test error 52.70\n",
            "Epoch   106, train loss 0.998759, train error 39.85,  test loss 1.325297, test error 54.20\n",
            "Epoch   107, train loss 0.993713, train error 39.40,  test loss 1.313747, test error 53.50\n",
            "Epoch   108, train loss 0.986509, train error 39.90,  test loss 1.340082, test error 53.90\n",
            "Epoch   109, train loss 0.988356, train error 40.08,  test loss 1.311660, test error 53.70\n",
            "Epoch   110, train loss 1.003269, train error 39.67,  test loss 1.304252, test error 52.40\n",
            "Epoch   111, train loss 0.989412, train error 40.40,  test loss 1.292708, test error 52.90\n",
            "Epoch   112, train loss 1.003001, train error 40.42,  test loss 1.295330, test error 52.10\n",
            "Epoch   113, train loss 1.007654, train error 40.88,  test loss 1.357914, test error 54.80\n",
            "Epoch   114, train loss 0.990794, train error 39.58,  test loss 1.309501, test error 53.90\n",
            "Epoch   115, train loss 0.996226, train error 40.65,  test loss 1.335615, test error 54.10\n",
            "Epoch   116, train loss 0.989290, train error 39.58,  test loss 1.324203, test error 52.60\n",
            "Epoch   117, train loss 0.984647, train error 40.35,  test loss 1.303592, test error 52.10\n",
            "Epoch   118, train loss 0.993439, train error 40.40,  test loss 1.330963, test error 53.90\n",
            "Epoch   119, train loss 0.982759, train error 40.10,  test loss 1.298404, test error 52.20\n",
            "Epoch   120, train loss 1.001877, train error 40.00,  test loss 1.299778, test error 53.90\n",
            "Epoch   121, train loss 0.995978, train error 40.17,  test loss 1.305346, test error 51.70\n",
            "Epoch   122, train loss 0.978996, train error 39.35,  test loss 1.302581, test error 52.30\n",
            "Epoch   123, train loss 1.000049, train error 39.88,  test loss 1.324183, test error 54.70\n",
            "Epoch   124, train loss 0.987384, train error 39.70,  test loss 1.308013, test error 53.10\n",
            "Epoch   125, train loss 0.991610, train error 40.17,  test loss 1.321267, test error 53.40\n",
            "Epoch   126, train loss 1.008848, train error 39.55,  test loss 1.310770, test error 51.00\n",
            "Epoch   127, train loss 0.989840, train error 40.53,  test loss 1.311924, test error 53.40\n",
            "Epoch   128, train loss 0.992791, train error 39.70,  test loss 1.326499, test error 54.20\n",
            "Epoch   129, train loss 0.999480, train error 40.47,  test loss 1.303043, test error 54.10\n",
            "Epoch   130, train loss 0.995917, train error 39.90,  test loss 1.290158, test error 53.10\n",
            "Epoch   131, train loss 0.989783, train error 40.05,  test loss 1.314343, test error 52.20\n",
            "Epoch   132, train loss 0.991233, train error 40.65,  test loss 1.344199, test error 52.40\n",
            "Epoch   133, train loss 1.004708, train error 40.78,  test loss 1.317840, test error 52.50\n",
            "Epoch   134, train loss 0.993527, train error 40.28,  test loss 1.316141, test error 53.90\n",
            "Epoch   135, train loss 0.989763, train error 39.60,  test loss 1.335000, test error 54.00\n",
            "Epoch   136, train loss 0.995287, train error 39.85,  test loss 1.313327, test error 52.40\n",
            "Epoch   137, train loss 0.988994, train error 39.92,  test loss 1.317918, test error 52.30\n",
            "Epoch   138, train loss 0.992237, train error 39.20,  test loss 1.299703, test error 52.30\n",
            "Epoch   139, train loss 0.991769, train error 39.85,  test loss 1.296806, test error 54.60\n",
            "Epoch   140, train loss 0.990446, train error 39.10,  test loss 1.301964, test error 53.00\n",
            "Epoch   141, train loss 1.007360, train error 40.30,  test loss 1.361546, test error 54.60\n",
            "Epoch   142, train loss 0.997559, train error 39.90,  test loss 1.336893, test error 52.90\n",
            "Epoch   143, train loss 0.999240, train error 39.60,  test loss 1.345695, test error 54.40\n",
            "Epoch   144, train loss 1.000675, train error 40.35,  test loss 1.344183, test error 54.00\n",
            "Epoch   145, train loss 0.983500, train error 40.28,  test loss 1.314662, test error 51.90\n",
            "Epoch   146, train loss 1.002561, train error 40.75,  test loss 1.346590, test error 52.70\n",
            "Epoch   147, train loss 0.996744, train error 41.00,  test loss 1.330719, test error 53.70\n",
            "Epoch   148, train loss 1.006283, train error 40.78,  test loss 1.288598, test error 52.60\n",
            "Epoch   149, train loss 0.994923, train error 39.92,  test loss 1.307009, test error 53.20\n",
            "Epoch   150, train loss 0.999174, train error 40.67,  test loss 1.328452, test error 53.30\n",
            "Epoch   151, train loss 0.989487, train error 39.92,  test loss 1.315786, test error 52.40\n",
            "Epoch   152, train loss 0.998608, train error 40.33,  test loss 1.280671, test error 51.80\n",
            "Epoch   153, train loss 0.984167, train error 39.65,  test loss 1.319761, test error 53.80\n",
            "Epoch   154, train loss 0.995161, train error 40.50,  test loss 1.334326, test error 53.10\n",
            "Epoch   155, train loss 1.001400, train error 39.83,  test loss 1.304179, test error 51.90\n",
            "Epoch   156, train loss 0.997097, train error 40.00,  test loss 1.293041, test error 52.00\n",
            "Epoch   157, train loss 0.993827, train error 40.03,  test loss 1.328347, test error 53.20\n",
            "Epoch   158, train loss 0.992178, train error 40.10,  test loss 1.319519, test error 53.00\n",
            "Epoch   159, train loss 0.991041, train error 39.70,  test loss 1.311347, test error 52.00\n",
            "Epoch   160, train loss 0.988641, train error 39.60,  test loss 1.303641, test error 52.50\n",
            "Epoch   161, train loss 0.995661, train error 39.85,  test loss 1.305801, test error 52.40\n",
            "Epoch   162, train loss 1.006003, train error 40.15,  test loss 1.302177, test error 54.00\n",
            "Epoch   163, train loss 0.986058, train error 39.50,  test loss 1.314371, test error 51.90\n",
            "Epoch   164, train loss 1.014320, train error 40.25,  test loss 1.307392, test error 53.00\n",
            "Epoch   165, train loss 0.982895, train error 39.28,  test loss 1.294258, test error 53.00\n",
            "Epoch   166, train loss 0.993198, train error 39.38,  test loss 1.306228, test error 52.30\n",
            "Epoch   167, train loss 0.997072, train error 39.58,  test loss 1.317391, test error 52.40\n",
            "Epoch   168, train loss 1.001083, train error 39.62,  test loss 1.332747, test error 54.60\n",
            "Epoch   169, train loss 0.988733, train error 39.65,  test loss 1.295423, test error 52.50\n",
            "Epoch   170, train loss 0.992182, train error 40.22,  test loss 1.298217, test error 52.90\n",
            "Epoch   171, train loss 0.995811, train error 40.10,  test loss 1.324913, test error 53.70\n",
            "Epoch   172, train loss 0.996344, train error 39.40,  test loss 1.327075, test error 53.50\n",
            "Epoch   173, train loss 1.000195, train error 40.42,  test loss 1.312122, test error 52.90\n",
            "Epoch   174, train loss 0.989372, train error 40.28,  test loss 1.332718, test error 53.60\n",
            "Epoch   175, train loss 1.005207, train error 40.17,  test loss 1.321280, test error 53.30\n",
            "Epoch   176, train loss 0.998498, train error 39.97,  test loss 1.308374, test error 53.00\n",
            "Epoch   177, train loss 0.984774, train error 39.97,  test loss 1.300197, test error 53.00\n",
            "Epoch   178, train loss 1.012215, train error 40.88,  test loss 1.330683, test error 54.00\n",
            "Epoch   179, train loss 0.996822, train error 39.50,  test loss 1.301886, test error 52.10\n",
            "Epoch   180, train loss 0.988529, train error 39.88,  test loss 1.326460, test error 53.30\n",
            "Epoch   181, train loss 0.988965, train error 40.20,  test loss 1.320058, test error 52.50\n",
            "Epoch   182, train loss 0.985348, train error 39.08,  test loss 1.276786, test error 51.50\n",
            "Epoch   183, train loss 0.997838, train error 39.88,  test loss 1.327928, test error 54.20\n",
            "Epoch   184, train loss 0.988836, train error 39.20,  test loss 1.316196, test error 52.80\n",
            "Epoch   185, train loss 1.011127, train error 40.28,  test loss 1.314154, test error 52.80\n",
            "Epoch   186, train loss 1.000950, train error 39.58,  test loss 1.305144, test error 53.30\n",
            "Epoch   187, train loss 0.985367, train error 39.33,  test loss 1.318995, test error 53.50\n",
            "Epoch   188, train loss 0.987411, train error 39.38,  test loss 1.316905, test error 53.40\n",
            "Epoch   189, train loss 0.995917, train error 39.72,  test loss 1.345057, test error 54.90\n",
            "Epoch   190, train loss 1.003004, train error 40.58,  test loss 1.288477, test error 52.70\n",
            "Epoch   191, train loss 0.997441, train error 39.28,  test loss 1.295388, test error 52.20\n",
            "Epoch   192, train loss 0.999135, train error 40.10,  test loss 1.332305, test error 53.40\n",
            "Epoch   193, train loss 0.992973, train error 39.45,  test loss 1.316813, test error 53.70\n",
            "Epoch   194, train loss 0.999504, train error 40.38,  test loss 1.316925, test error 54.50\n",
            "Epoch   195, train loss 0.993376, train error 39.75,  test loss 1.310440, test error 54.20\n",
            "Epoch   196, train loss 1.006564, train error 41.08,  test loss 1.326723, test error 52.40\n",
            "Epoch   197, train loss 0.991012, train error 40.42,  test loss 1.317374, test error 52.30\n",
            "Epoch   198, train loss 1.002029, train error 40.45,  test loss 1.327159, test error 53.40\n",
            "Epoch   199, train loss 0.988782, train error 39.83,  test loss 1.322836, test error 52.70\n"
          ]
        }
      ],
      "source": [
        "# choose cross entropy loss function (equation 5.24)\n",
        "loss_function = torch.nn.CrossEntropyLoss()\n",
        "# construct SGD optimizer and initialize learning rate and momentum\n",
        "optimizer = torch.optim.SGD(model.parameters(), lr = 0.05, momentum=0.9)\n",
        "# object that decreases learning rate by half every 10 epochs\n",
        "scheduler = StepLR(optimizer, step_size=10, gamma=0.5)\n",
        "x_train = torch.tensor(data['x'].astype('float32'))\n",
        "y_train = torch.tensor(data['y'].transpose().astype('int64'))\n",
        "x_test= torch.tensor(data['x_test'].astype('float32'))\n",
        "y_test = torch.tensor(data['y_test'].astype('int64'))\n",
        "\n",
        "# load the data into a class that creates the batches\n",
        "data_loader = DataLoader(TensorDataset(x_train,y_train), batch_size=25, shuffle=True, worker_init_fn=np.random.seed(1))\n",
        "\n",
        "# Initialize model weights\n",
        "model.apply(weights_init)\n",
        "\n",
        "# loop over the dataset n_epoch times\n",
        "n_epoch = 200\n",
        "# store the loss and the % correct at each epoch\n",
        "losses_train = np.zeros((n_epoch))\n",
        "errors_train = np.zeros((n_epoch))\n",
        "losses_test = np.zeros((n_epoch))\n",
        "errors_test = np.zeros((n_epoch))\n",
        "\n",
        "for epoch in range(n_epoch):\n",
        "  # loop over batches\n",
        "  for i, batch in enumerate(data_loader):\n",
        "    # retrieve inputs and labels for this batch\n",
        "    x_batch, y_batch = batch\n",
        "    # zero the parameter gradients\n",
        "    optimizer.zero_grad()\n",
        "    # forward pass -- calculate model output\n",
        "    pred = model(x_batch)\n",
        "    # compute the loss\n",
        "    loss = loss_function(pred, y_batch)\n",
        "    # backward pass\n",
        "    loss.backward()\n",
        "    # SGD update\n",
        "    optimizer.step()\n",
        "\n",
        "  # Run whole dataset to get statistics -- normally wouldn't do this\n",
        "  pred_train = model(x_train)\n",
        "  pred_test = model(x_test)\n",
        "  _, predicted_train_class = torch.max(pred_train.data, 1)\n",
        "  _, predicted_test_class = torch.max(pred_test.data, 1)\n",
        "  errors_train[epoch] = 100 - 100 * (predicted_train_class == y_train).float().sum() / len(y_train)\n",
        "  errors_test[epoch]= 100 - 100 * (predicted_test_class == y_test).float().sum() / len(y_test)\n",
        "  losses_train[epoch] = loss_function(pred_train, y_train).item()\n",
        "  losses_test[epoch]= loss_function(pred_test, y_test).item()\n",
        "  print(f'Epoch {epoch:5d}, train loss {losses_train[epoch]:.6f}, train error {errors_train[epoch]:3.2f},  test loss {losses_test[epoch]:.6f}, test error {errors_test[epoch]:3.2f}')\n",
        "\n",
        "  # tell scheduler to consider updating learning rate\n",
        "  scheduler.step()"
      ]
    },
    {
      "cell_type": "code",
      "execution_count": 38,
      "metadata": {
        "id": "yI-l6kA_EH9G",
        "outputId": "c8ca60ad-1248-4fc7-f4e5-75c54cb916f1",
        "colab": {
          "base_uri": "https://localhost:8080/",
          "height": 927
        }
      },
      "outputs": [
        {
          "output_type": "display_data",
          "data": {
            "text/plain": [
              "<Figure size 640x480 with 1 Axes>"
            ],
            "image/png": "[encoded data removed]"
          },
          "metadata": {}
        },
        {
          "output_type": "display_data",
          "data": {
            "text/plain": [
              "<Figure size 640x480 with 1 Axes>"
            ],
            "image/png": "[encoded data removed]"
          },
          "metadata": {}
        }
      ],
      "source": [
        "# Plot the results\n",
        "fig, ax = plt.subplots()\n",
        "ax.plot(errors_train,'r-',label='train')\n",
        "ax.plot(errors_test,'b-',label='test')\n",
        "ax.set_ylim(0,100); ax.set_xlim(0,n_epoch)\n",
        "ax.set_xlabel('Epoch'); ax.set_ylabel('Error')\n",
        "ax.set_title('TrainError %3.2f, Test Error %3.2f'%(errors_train[-1],errors_test[-1]))\n",
        "ax.legend()\n",
        "plt.show()\n",
        "\n",
        "# Plot the results\n",
        "fig, ax = plt.subplots()\n",
        "ax.plot(losses_train,'r-',label='train')\n",
        "ax.plot(losses_test,'b-',label='test')\n",
        "ax.set_xlim(0,n_epoch)\n",
        "ax.set_xlabel('Epoch'); ax.set_ylabel('Loss')\n",
        "ax.set_title('Train loss %3.2f, Test loss %3.2f'%(losses_train[-1],losses_test[-1]))\n",
        "ax.legend()\n",
        "plt.show()"
      ]
    },
    {
      "cell_type": "markdown",
      "metadata": {
        "id": "q-yT6re6GZS4"
      },
      "source": [
        "**TODO**\n",
        "\n",
        "Play with the model -- try changing the number of layers, hidden units, learning rate, batch size, momentum or anything else you like.  See if you can improve the test results.\n",
        "\n",
        "Is it a good idea to optimize the hyperparameters in this way?  Will the final result be a good estimate of the true test performance?"
      ]
    }
  ],
  "metadata": {
    "accelerator": "GPU",
    "colab": {
      "gpuType": "T4",
      "provenance": [],
      "include_colab_link": true
    },
    "kernelspec": {
      "display_name": "Python 3",
      "name": "python3"
    },
    "language_info": {
      "name": "python"
    }
  },
  "nbformat": 4,
  "nbformat_minor": 0
}